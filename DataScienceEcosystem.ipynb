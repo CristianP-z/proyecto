"""
# Data Science Tools and Ecosystem
"""

# Exercise 3 - Introduction
"""
In this notebook, Data Science Tools and Ecosystem are summarized.
"""

# Exercise 4 - List of Data Science Languages
"""
Some of the popular languages that Data Scientists use are:
1. Python
2. R
3. SQL
4. Julia
5. Scala
"""

# Exercise 5 - List of Data Science Libraries
"""
Some of the commonly used libraries used by Data Scientists include:
1. Pandas
2. NumPy
3. Matplotlib
4. Scikit-learn
5. TensorFlow
"""

# Exercise 6 - Table of Data Science Tools
"""
| Data Science Tools |
|--------------------|
| Jupyter Notebook  |
| RStudio          |
| Apache Zeppelin  |
"""

# Exercise 7 - Arithmetic Expression Examples
"""
### Below are a few examples of evaluating arithmetic expressions in Python.
"""

# Exercise 8 - Multiply and Add Numbers
# This is a simple arithmetic expression to multiply then add integers
(3*4)+5  # Expected output: 17

# Exercise 9 - Convert Minutes to Hours
# This will convert 200 minutes to hours by dividing by 60
200 / 60  # Expected output: 3.33 (approximately)

# Exercise 10 - Objectives List
"""
**Objectives:**
- List popular languages for Data Science
- Identify commonly used Data Science libraries
- Present common Data Science tools in a table
- Perform basic arithmetic operations in Python
- Convert time units using Python expressions
"""

# Exercise 11 - Author Information
"""
## Author
John Doe  # Reemplaza con tu nombre real
"""

