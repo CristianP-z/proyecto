{"cells":[{"cell_type":"markdown","id":"9c5e64dc-2bc7-4640-9b71-877eda7b6100","metadata":{},"outputs":[],"source":["<center>\n","    <img src=\"https://cf-courses-data.s3.us.cloud-object-storage.appdomain.cloud/IBMDeveloperSkillsNetwork-DS0105EN-SkillsNetwork/labs/Module2/images/SN_web_lightmode.png\" width=\"300\" alt=\"cognitiveclass.ai logo\">\n","</center>\n"]},{"cell_type":"markdown","id":"bca0d27a-24c6-4c43-b116-c73c8d9ab219","metadata":{},"outputs":[],"source":["# Hands-on Lab: Create your Jupyter Notebook\n"]},{"cell_type":"markdown","id":"8b126e2f-912e-42e0-8d57-43862ac465fc","metadata":{},"outputs":[],"source":["#### Add your code below following the instructions given in the course\n"]},{"cell_type":"code","id":"e7ba372f-335a-4836-943b-f9cf0fa309b0","metadata":{},"outputs":[],"source":[""]},{"cell_type":"markdown","id":"b5f467ed-efe7-45ac-a08b-b2d48c26ba81","metadata":{},"outputs":[],"source":["Copyright ©2024 IBM Corporation. All rights reserved.\n"]}],"metadata":{"kernelspec":{"display_name":"Python","language":"python","name":"conda-env-python-py"},"language_info":{"name":"python","version":"3.7.12","mimetype":"text/x-python","codemirror_mode":{"name":"ipython","version":3},"pygments_lexer":"ipython3","nbconvert_exporter":"python","file_extension":".py"},"prev_pub_hash":"9e1985db9844176462bd1d5863048c9f3d17404bbc6a648be9084b0c42b29347"},"nbformat":4,"nbformat_minor":4}

"""
# Data Science Tools and Ecosystem
"""

# Exercise 3 - Introduction
"""
In this notebook, Data Science Tools and Ecosystem are summarized.
"""

# Exercise 4 - List of Data Science Languages
"""
Some of the popular languages that Data Scientists use are:
1. Python
2. R
3. SQL
4. Julia
5. Scala
"""

# Exercise 5 - List of Data Science Libraries
"""
Some of the commonly used libraries used by Data Scientists include:
1. Pandas
2. NumPy
3. Matplotlib
4. Scikit-learn
5. TensorFlow
"""

# Exercise 6 - Table of Data Science Tools
"""
| Data Science Tools |
|--------------------|
| Jupyter Notebook  |
| RStudio          |
| Apache Zeppelin  |
"""

# Exercise 7 - Arithmetic Expression Examples
"""
### Below are a few examples of evaluating arithmetic expressions in Python.
"""

# Exercise 8 - Multiply and Add Numbers
# This is a simple arithmetic expression to multiply then add integers
(3*4)+5  # Expected output: 17

# Exercise 9 - Convert Minutes to Hours
# This will convert 200 minutes to hours by dividing by 60
200 / 60  # Expected output: 3.33 (approximately)

# Exercise 10 - Objectives List
"""
**Objectives:**
- List popular languages for Data Science
- Identify commonly used Data Science libraries
- Present common Data Science tools in a table
- Perform basic arithmetic operations in Python
- Convert time units using Python expressions
"""

# Exercise 11 - Author Information
"""
## Author
John Doe  # Reemplaza con tu nombre real
"""
